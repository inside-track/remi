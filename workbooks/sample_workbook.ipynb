{
 "cells": [
  {
   "cell_type": "code",
   "execution_count": null,
   "metadata": {
    "collapsed": false
   },
   "outputs": [],
   "source": [
    "require_relative \"#{Dir.pwd}/workbook_helper\"\n",
    "\n",
    "require 'benchmark'"
   ]
  },
  {
   "cell_type": "code",
   "execution_count": null,
   "metadata": {
    "collapsed": false
   },
   "outputs": [],
   "source": [
    "# Safest to delete and rebuild class when developing\n",
    "Object.send(:remove_const, :SomeJob) if Object.constants.include?(:SomeJob)\n",
    "\n",
    "class SomeJob\n",
    "  include Remi::Job\n",
    "  define_target :my_lookup, Hash\n",
    "  define_transform :populate_lookup, targets: :my_lookup do\n",
    "    my_lookup[:happy] = \"bear\"\n",
    "    my_lookup[:smacks] = \"honey\"\n",
    "  end\n",
    "end\n",
    "\n",
    "job = SomeJob.new.run\n",
    "job.my_lookup"
   ]
  }
 ],
 "metadata": {
  "kernelspec": {
   "display_name": "Ruby 2.2.2",
   "language": "ruby",
   "name": "ruby"
  },
  "language_info": {
   "file_extension": "rb",
   "mimetype": "application/x-ruby",
   "name": "ruby",
   "version": "2.2.2"
  }
 },
 "nbformat": 4,
 "nbformat_minor": 0
}
